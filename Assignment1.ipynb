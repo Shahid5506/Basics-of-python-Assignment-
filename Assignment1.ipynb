{
  "nbformat": 4,
  "nbformat_minor": 0,
  "metadata": {
    "colab": {
      "provenance": [],
      "toc_visible": true
    },
    "kernelspec": {
      "name": "python3",
      "display_name": "Python 3"
    },
    "language_info": {
      "name": "python"
    }
  },
  "cells": [
    {
      "cell_type": "code",
      "execution_count": null,
      "metadata": {
        "id": "3OcOB3QVrhPs"
      },
      "outputs": [],
      "source": []
    },
    {
      "cell_type": "markdown",
      "source": [
        "#Python basic Questions\n",
        "1. What is Python, and why is it popular?\n",
        "  - Python is a high-level, interpreted programming language known for its simplicity and readability. It’s popular because it's easy to learn, versatile, has a large community, and offers a wide range of libraries for various applications.\n",
        "\n",
        "2. What is an interpreter in Python?\n",
        "   -An interpreter in Python is a program that executes Python code line by line. It allows for immediate execution and feedback, making it easier to debug and test code.\n",
        "\n",
        "3. What are pre-defined keywords in Python?\n",
        "  - Pre-defined keywords in Python are reserved words that have special meaning and cannot be used as identifiers (like variable names). Examples include if, else, for, while, def, class, import, etc.\n",
        "\n",
        "4. Can keywords be used as variable names?\n",
        "   -No, keywords cannot be used as variable names in Python. They are reserved for their specific functions in the language syntax.\n",
        "\n",
        "5. What is mutability in Python?\n",
        "  - Mutability refers to the ability of an object to be changed after it is created. Mutable objects can be modified, while immutable objects cannot.\n",
        "\n",
        "6. Why are lists mutable, but tuples are immutable?\n",
        "   -Lists are mutable because they are designed to allow changes, such as adding or removing elements. Tuples are immutable to provide a fixed structure, which can be beneficial for ensuring data integrity and optimization.\n",
        "\n",
        "7. What is the difference between “==” and “is” operators in Python?\n",
        "  - The == operator checks for value equality, meaning it checks if two objects have the same value.\n",
        "  -The is operator checks for identity, meaning it checks if two references point to the same object in memory.\n",
        "\n",
        "8. What are logical operators in Python?\n",
        "  - Logical operators in Python are used to combine conditional statements. The main logical operators are:\n",
        "   - (and): Returns True if both statements are true.\n",
        "   - (or): Returns True if at least one of the statements is true.\n",
        "   - not(:) Reverses the result, returning True if the statement is false.\n",
        "\n",
        "9. What is type casting in Python?\n",
        "  - Type casting in Python is the process of converting one data type into another. For example, converting an integer to a string.\n",
        "\n",
        "10. What is the difference between implicit and explicit type casting?\n",
        "    - Implicit type casting is done automatically by Python when it converts one data type to another without any user intervention (e.g., converting an integer to a float during arithmetic operations).\n",
        "    - Explicit type casting requires the programmer to specify the conversion using functions like int(), float(), or str().\n",
        "\n",
        "11. What is the purpose of conditional statements in Python?\n",
        "   - Conditional statements allow the program to execute certain pieces of code based on whether a condition is true or false. They enable decision-making in the code.\n",
        "\n",
        "12. How does the elif statement work?\n",
        "    - The elif statement stands for \"else if.\" It allows you to check multiple expressions for truth and execute a block of code as soon as one of the conditions is true. It follows an if statement and precedes an optional else statement.\n",
        "\n",
        "13. What is the difference between for and while loops?\n",
        "    - A for loop iterates over a sequence (like a list or a range) and executes a block of code for each item.\n",
        "     A while loop continues to execute a block of code as long as a specified condition is true.\n",
        "\n",
        "14. Describe a scenario where a while loop is more suitable than a for loop.\n",
        "   - A while loop is more suitable when the number of iterations is not known beforehand and depends on a condition. For example, if you want to keep prompting a user for input until they enter a valid response, a while loop would be appropriate because you don't know how many attempts it will take.\n"
      ],
      "metadata": {
        "id": "oVKDkhYfrmA2"
      }
    },
    {
      "cell_type": "code",
      "source": [
        "#Practical  Questions"
      ],
      "metadata": {
        "id": "omC1iiRgxl2N"
      },
      "execution_count": null,
      "outputs": []
    },
    {
      "cell_type": "code",
      "source": [
        "#write a python program to print 'Hello world!'\n",
        "print('Hello world!')"
      ],
      "metadata": {
        "colab": {
          "base_uri": "https://localhost:8080/"
        },
        "id": "n1mFq3a7xv4S",
        "outputId": "b438e31a-4e9c-4f90-c3ed-58e4e9f981d2"
      },
      "execution_count": null,
      "outputs": [
        {
          "output_type": "stream",
          "name": "stdout",
          "text": [
            "Hello world!\n"
          ]
        }
      ]
    },
    {
      "cell_type": "markdown",
      "source": [],
      "metadata": {
        "id": "QG2TFnFaxnRB"
      }
    },
    {
      "cell_type": "code",
      "source": [
        "#write a python program that dispalys your name and age\n",
        "name=\"shahid hamid\"\n",
        "age=25\n",
        "print(f\"My name is {name} and i am {age} years old.\")"
      ],
      "metadata": {
        "colab": {
          "base_uri": "https://localhost:8080/"
        },
        "id": "zqEs39sBxnrt",
        "outputId": "efbfc339-cc28-4d24-9984-74d1e7bc4753"
      },
      "execution_count": null,
      "outputs": [
        {
          "output_type": "stream",
          "name": "stdout",
          "text": [
            "My name is shahid hamid and i am 25years old.\n"
          ]
        }
      ]
    },
    {
      "cell_type": "code",
      "source": [
        "#write a code to print all the pre-define keywords in python using keyword library\n",
        "import keyword\n",
        "print(keyword.kwlist)"
      ],
      "metadata": {
        "colab": {
          "base_uri": "https://localhost:8080/"
        },
        "id": "GMvkw9ar0U6J",
        "outputId": "63a3463b-763c-492f-953d-04e96a7d062a"
      },
      "execution_count": null,
      "outputs": [
        {
          "output_type": "stream",
          "name": "stdout",
          "text": [
            "['False', 'None', 'True', 'and', 'as', 'assert', 'async', 'await', 'break', 'class', 'continue', 'def', 'del', 'elif', 'else', 'except', 'finally', 'for', 'from', 'global', 'if', 'import', 'in', 'is', 'lambda', 'nonlocal', 'not', 'or', 'pass', 'raise', 'return', 'try', 'while', 'with', 'yield']\n"
          ]
        }
      ]
    },
    {
      "cell_type": "code",
      "source": [
        "#write aprogram that checks if a gibven word is python keyword\n",
        "word=\"break\"\n",
        "if keyword.iskeyword(word):\n",
        "  print(f\"{word} is a python keyword.\")\n",
        "else:\n",
        "  print(f\"{word} is not a python keyword.\")"
      ],
      "metadata": {
        "colab": {
          "base_uri": "https://localhost:8080/"
        },
        "id": "5p3rZbzS06yh",
        "outputId": "f43202a5-362e-486c-d028-27f5ab86636e"
      },
      "execution_count": null,
      "outputs": [
        {
          "output_type": "stream",
          "name": "stdout",
          "text": [
            "break is a python keyword.\n"
          ]
        }
      ]
    },
    {
      "cell_type": "code",
      "source": [
        "#Create a list and tuple in python,and demonstrate how attempting to change an elemnt works differently for each.\n",
        "def demonstrate_list_and_tuple():\n",
        "    # Create a list and a tuple\n",
        "    my_list = [1, 2, 3]\n",
        "    my_tuple = (4, 5, 6)\n",
        "    print(\"Original list:\", my_list)\n",
        "    print(\"Original tuple:\", my_tuple)\n",
        "    # Modify an elements\n",
        "    my_list[1] = 99\n",
        "    print(\"\\nModified list (element at index 1 changed to 99):\", my_list)\n",
        "    # Attempt to modify an element in the tuple\n",
        "    try:\n",
        "        my_tuple[1] = 99\n",
        "    except TypeError as e:\n",
        "        print(\"\\nAttempt to modify tuple failed with error:\", e)\n",
        "demonstrate_list_and_tuple()\n"
      ],
      "metadata": {
        "colab": {
          "base_uri": "https://localhost:8080/"
        },
        "id": "I_FO1VJqcKYc",
        "outputId": "55c3dac4-c72f-4b58-9fa4-b2493e51a569"
      },
      "execution_count": null,
      "outputs": [
        {
          "output_type": "stream",
          "name": "stdout",
          "text": [
            "Original list: [1, 2, 3]\n",
            "Original tuple: (4, 5, 6)\n",
            "\n",
            "Modified list (element at index 1 changed to 99): [1, 99, 3]\n",
            "\n",
            "Attempt to modify tuple failed with error: 'tuple' object does not support item assignment\n"
          ]
        }
      ]
    },
    {
      "cell_type": "code",
      "source": [
        "#write a program to demonstrate use  of logical operators\n",
        "# Define some variables\n",
        "x = 10\n",
        "y = 20\n",
        "z = 30\n",
        "print(\"Values:\")\n",
        "print(f\"x = {x}, y = {y}, z = {z}\\n\")\n",
        "# Logical AND\n",
        "print(\"Logical AND:\")\n",
        "print(f\"(x < y) and (y < z): {(x < y) and (y < z)}\")  # True and True -> True\n",
        "print(f\"(x > y) and (y < z): {(x > y) and (y < z)}\")  # False and True -> False\n",
        "# Logical OR\n",
        "print(\"\\nLogical OR:\")\n",
        "print(f\"(x > y) or (y < z): {(x > y) or (y < z)}\")    # False or True -> True\n",
        "print(f\"(x > y) or (z < x): {(x > y) or (z < x)}\")    # False or False -> False\n",
        "\n",
        "# Logical NOT\n",
        "print(\"\\nLogical NOT:\")\n",
        "print(f\"not (x > y): {not (x > y)}\")                 # not False -> True\n",
        "print(f\"not (y < z): {not (y < z)}\")                 # not True -> False\n"
      ],
      "metadata": {
        "colab": {
          "base_uri": "https://localhost:8080/"
        },
        "id": "bD4Fdpf42AKV",
        "outputId": "f4587e47-4f30-4077-f04c-b74ca2e0938e"
      },
      "execution_count": null,
      "outputs": [
        {
          "output_type": "stream",
          "name": "stdout",
          "text": [
            "Values:\n",
            "x = 10, y = 20, z = 30\n",
            "\n",
            "Logical AND:\n",
            "(x < y) and (y < z): True\n",
            "(x > y) and (y < z): False\n",
            "\n",
            "Logical OR:\n",
            "(x > y) or (y < z): True\n",
            "(x > y) or (z < x): False\n",
            "\n",
            "Logical NOT:\n",
            "not (x > y): True\n",
            "not (y < z): False\n"
          ]
        }
      ]
    },
    {
      "cell_type": "code",
      "source": [
        "#write a python program to convert user input from string to integer ,float, and boolean types\n",
        "user_input = input(\"Enter a value: \")\n",
        "# Convert to integer\n",
        "if user_input.isdigit() or (user_input[0] == '-' and user_input[1:].isdigit()):\n",
        "    int_value = int(user_input)\n",
        "    print(f\"Integer value: {int_value}\")\n",
        "else:\n",
        "    print(\"Cannot convert to integer.\")\n",
        "\n",
        "# Convert to float\n",
        "if user_input.replace('.', '', 1).isdigit() or \\\n",
        "   (user_input[0] == '-' and user_input[1:].replace('.', '', 1).isdigit()):\n",
        "    float_value = float(user_input)\n",
        "    print(f\"Float value: {float_value}\")\n",
        "else:\n",
        "    print(\"Cannot convert to float.\")\n",
        "\n",
        "# Convert to boolean\n",
        "# Any non-empty string except \"0\", \"\", or \"false\" (case-insensitive) is True.\n",
        "bool_value = user_input.strip().lower() not in [\"\", \"0\", \"false\"]\n",
        "print(f\"Boolean value: {bool_value}\")\n"
      ],
      "metadata": {
        "colab": {
          "base_uri": "https://localhost:8080/"
        },
        "id": "E_OuuLs3fGTy",
        "outputId": "da990f70-c7c2-45b3-f0ef-ae3daa8b50f5"
      },
      "execution_count": null,
      "outputs": [
        {
          "output_type": "stream",
          "name": "stdout",
          "text": [
            "Enter a value: 76\n",
            "Integer value: 76\n",
            "Float value: 76.0\n",
            "Boolean value: True\n"
          ]
        }
      ]
    },
    {
      "cell_type": "code",
      "source": [
        "3#write a code to demonstarte type casting with list elements\n",
        "input_list = [\"123\", \"45.67\", \"true\", \"0\", \"hello\"]\n",
        "# Initialize empty lists to store converted elements\n",
        "int_list = []\n",
        "float_list = []\n",
        "bool_list = []\n",
        "str_list = []\n",
        "\n",
        "print(\"Original list:\", input_list)\n",
        "\n",
        "# Iterate through the elements of the list\n",
        "for element in input_list:\n",
        "    # Attempt to cast to integer\n",
        "    if element.isdigit() or (element[0] == '-' and element[1:].isdigit()):\n",
        "        int_list.append(int(element))\n",
        "    # Attempt to cast to float\n",
        "    elif element.replace('.', '', 1).isdigit() or \\\n",
        "         (element[0] == '-' and element[1:].replace('.', '', 1).isdigit()):\n",
        "        float_list.append(float(element))\n",
        "    # Attempt to cast to boolean\n",
        "    elif element.strip().lower() in [\"true\", \"false\", \"0\", \"1\"]:\n",
        "        bool_list.append(element.strip().lower() == \"true\")\n",
        "    # If none of the above, treat as a string\n",
        "    else:\n",
        "        str_list.append(element)\n",
        "\n",
        "# Print the resulting lists\n",
        "print(\"\\nConverted lists:\")\n",
        "print(\"Integer list:\", int_list)\n",
        "print(\"Float list:\", float_list)\n",
        "print(\"Boolean list:\", bool_list)\n",
        "print(\"String list:\", str_list)\n"
      ],
      "metadata": {
        "colab": {
          "base_uri": "https://localhost:8080/"
        },
        "id": "TboY_NzLgEy-",
        "outputId": "b4595721-ef20-4356-9b08-3788cddd95cf"
      },
      "execution_count": null,
      "outputs": [
        {
          "output_type": "stream",
          "name": "stdout",
          "text": [
            "Original list: ['123', '45.67', 'true', '0', 'hello']\n",
            "\n",
            "Converted lists:\n",
            "Integer list: [123, 0]\n",
            "Float list: [45.67]\n",
            "Boolean list: [True]\n",
            "String list: ['hello']\n"
          ]
        }
      ]
    },
    {
      "cell_type": "code",
      "source": [
        "# Write a code that checks if a guiven number is positive ,negative and zero.\n",
        "# Get input from the user\n",
        "number =int (input(\"Enter a number: \"))\n",
        "if number > 0:\n",
        "    print(\"The number is positive.\")\n",
        "elif number < 0:\n",
        "    print(\"The number is negative.\")\n",
        "else:\n",
        "    print(\"The number is zero.\")\n"
      ],
      "metadata": {
        "colab": {
          "base_uri": "https://localhost:8080/"
        },
        "id": "zeJbW2j3g14B",
        "outputId": "4c0ca014-6fd8-4e4c-fd85-780b1350d29e"
      },
      "execution_count": null,
      "outputs": [
        {
          "output_type": "stream",
          "name": "stdout",
          "text": [
            "Enter a number: 34\n",
            "The number is positive.\n"
          ]
        }
      ]
    },
    {
      "cell_type": "code",
      "source": [
        "#write a for loop to print numbers 1 to 10\n",
        "\n",
        "for i in range(1, 11):\n",
        "     print(i)"
      ],
      "metadata": {
        "colab": {
          "base_uri": "https://localhost:8080/"
        },
        "id": "qFi-a7kdhkXI",
        "outputId": "0436ee20-5dff-4ea3-e139-42d2c26ac85a"
      },
      "execution_count": null,
      "outputs": [
        {
          "output_type": "stream",
          "name": "stdout",
          "text": [
            "1\n",
            "2\n",
            "3\n",
            "4\n",
            "5\n",
            "6\n",
            "7\n",
            "8\n",
            "9\n",
            "10\n"
          ]
        }
      ]
    },
    {
      "cell_type": "code",
      "source": [
        "#write a python program to find sum of all even number between 1 and 50\n",
        "sumOfEvenNo=0\n",
        "for number in range(1, 51):\n",
        "    if number % 2 == 0:  # Check if the number is even\n",
        "        sumOfEvenNo =sumOfEvenNo+ number\n",
        "\n",
        "print(\"Sum of all even numbers between 1 and 50:\", sumOfEvenNo)\n"
      ],
      "metadata": {
        "colab": {
          "base_uri": "https://localhost:8080/"
        },
        "id": "FQly5igCibrF",
        "outputId": "bb773518-2636-4b02-d505-de1bb870cc0d"
      },
      "execution_count": null,
      "outputs": [
        {
          "output_type": "stream",
          "name": "stdout",
          "text": [
            "Sum of all even numbers between 1 and 50: 650\n"
          ]
        }
      ]
    },
    {
      "cell_type": "code",
      "source": [
        "#Write a program to reverse a string using while loop.\n",
        "string = input(\"Enter a string: \")\n",
        "reversed_string = \"\"\n",
        "index = len(string) - 1\n",
        "\n",
        "while index >= 0:\n",
        "    reversed_string += string[index]\n",
        "    index -= 1\n",
        "\n",
        "print(\"Reversed string:\", reversed_string)"
      ],
      "metadata": {
        "colab": {
          "base_uri": "https://localhost:8080/"
        },
        "id": "asoBqDMskEus",
        "outputId": "8f471c8f-8345-4078-cd98-3392391c1037"
      },
      "execution_count": null,
      "outputs": [
        {
          "output_type": "stream",
          "name": "stdout",
          "text": [
            "Enter a string: hello\n",
            "Reversed string: olleh\n"
          ]
        }
      ]
    },
    {
      "cell_type": "code",
      "source": [
        "#Write a python program to calculate the factorial of a number provided by the user using while loop\n",
        "num = int(input(\"Enter a number: \"))\n",
        "# Initialize factorial variable to 1\n",
        "factorial = 1\n",
        "\n",
        "# Check if the number is non-negative\n",
        "if num < 0:\n",
        "    print(\"Factorial is not defined for negative numbers.\")\n",
        "else:\n",
        "    # Use a while loop to calculate the factorial\n",
        "    while num > 0:\n",
        "        factorial *= num  # Multiply the current factorial by the number\n",
        "        num -= 1  # Decrement the number\n",
        "\n",
        "    # Print the result\n",
        "    print(\"Factorial:\", factorial)\n"
      ],
      "metadata": {
        "colab": {
          "base_uri": "https://localhost:8080/"
        },
        "id": "jpEVhHMUleuh",
        "outputId": "f5091d35-eb98-461c-cb32-2a8f1b6c411d"
      },
      "execution_count": null,
      "outputs": [
        {
          "output_type": "stream",
          "name": "stdout",
          "text": [
            "Enter a number: 4\n",
            "Factorial: 24\n"
          ]
        }
      ]
    }
  ]
}